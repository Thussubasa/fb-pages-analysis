{
 "cells": [
  {
   "cell_type": "code",
   "execution_count": 1,
   "metadata": {
    "collapsed": false
   },
   "outputs": [
    {
     "name": "stdout",
     "output_type": "stream",
     "text": [
      "Requirement already satisfied: facebook-sdk in /usr/local/lib/python2.7/site-packages\n",
      "Requirement already satisfied: requests in /usr/local/lib/python2.7/site-packages (from facebook-sdk)\n",
      "Requirement already satisfied: tqdm in /usr/local/lib/python2.7/site-packages\n",
      "Requirement already satisfied: requests in /usr/local/lib/python2.7/site-packages\n",
      "Requirement already satisfied: arrow in /usr/local/lib/python2.7/site-packages\n",
      "Requirement already satisfied: python-dateutil in /usr/local/lib/python2.7/site-packages (from arrow)\n",
      "Requirement already satisfied: six>=1.5 in /usr/local/lib/python2.7/site-packages (from python-dateutil->arrow)\n"
     ]
    }
   ],
   "source": [
    "### Library necessary to run this IPython Notebook\n",
    "!pip install facebook-sdk\n",
    "!pip install tqdm\n",
    "!pip install requests\n",
    "!pip install arrow"
   ]
  },
  {
   "cell_type": "code",
   "execution_count": 2,
   "metadata": {
    "collapsed": false
   },
   "outputs": [],
   "source": [
    "import pandas as pd\n",
    "import facebook\n",
    "import requests\n",
    "import arrow\n",
    "from tqdm import tqdm"
   ]
  },
  {
   "cell_type": "code",
   "execution_count": 9,
   "metadata": {
    "collapsed": true
   },
   "outputs": [],
   "source": [
    "ACCESS_TOKEN = 'Get token...'\n",
    "PAGE_ID = 'brainstorm9'"
   ]
  },
  {
   "cell_type": "code",
   "execution_count": 10,
   "metadata": {
    "collapsed": false
   },
   "outputs": [],
   "source": [
    "graph = facebook.GraphAPI(access_token = ACCESS_TOKEN, version = '2.7')"
   ]
  },
  {
   "cell_type": "code",
   "execution_count": 11,
   "metadata": {
    "collapsed": false
   },
   "outputs": [],
   "source": [
    "page = graph.get_object(\n",
    "    id = PAGE_ID,\n",
    "    fields='name, about, category, fan_count, feed.limit(25){created_time, permalink_url, type, status_type, message, shares}'\n",
    ")"
   ]
  },
  {
   "cell_type": "code",
   "execution_count": 15,
   "metadata": {
    "collapsed": false
   },
   "outputs": [],
   "source": [
    "arw = arrow.utcnow()\n",
    "current_month = arw.month\n",
    "\n",
    "def extract_feed_data(feed, rows = []):\n",
    "    should_finish = False\n",
    "\n",
    "    for post in tqdm(feed['data'], 'Extracting current month data...'):\n",
    "        post_month = arrow.get(post['created_time']).month\n",
    "        if(post_month != current_month):\n",
    "            should_finish = True\n",
    "            break\n",
    "        \n",
    "        likes = graph.get_object(str(post['id']) + '/likes?limit=0&summary=true')\n",
    "        reactions = graph.get_object(str(post['id']) + '/reactions?limit=0&summary=true')\n",
    "        comments = graph.get_object(str(post['id']) + '/comments?limit=0&summary=true')\n",
    "\n",
    "        row_data = {\n",
    "            'id': post['id'],\n",
    "            'created_time': post['created_time'],\n",
    "            'permalink_url': post['permalink_url'],\n",
    "            'type': post['type'],\n",
    "            'status_type': post['status_type'],\n",
    "            'message': post['message'],\n",
    "            'total_likes': likes['summary']['total_count'],\n",
    "            'total_reactions': reactions['summary']['total_count'],\n",
    "            'total_comments': comments['summary']['total_count'],\n",
    "            'total_shares': post['shares']['count'] if 'shares' in post else 0\n",
    "        }\n",
    "        rows.append(row_data)\n",
    "\n",
    "    if(should_finish):\n",
    "        print('Month data complete!')\n",
    "        return rows\n",
    "    else:\n",
    "        next_feed = requests.get(feed['paging']['next']).json()\n",
    "        return extract_feed_data(next_feed, rows)"
   ]
  },
  {
   "cell_type": "code",
   "execution_count": 16,
   "metadata": {
    "collapsed": false
   },
   "outputs": [
    {
     "name": "stderr",
     "output_type": "stream",
     "text": [
      "\n",
      "Extracting current month data...:   0%|          | 0/25 [00:00<?, ?it/s]\u001b[A\n",
      "Extracting current month data...:   4%|▍         | 1/25 [00:02<01:02,  2.61s/it]\u001b[A\n",
      "Extracting current month data...:   8%|▊         | 2/25 [00:04<00:51,  2.25s/it]\u001b[A\n",
      "Extracting current month data...:  12%|█▏        | 3/25 [00:08<01:06,  3.00s/it]\u001b[A\n",
      "Extracting current month data...:  20%|██        | 5/25 [00:16<01:08,  3.43s/it]"
     ]
    },
    {
     "name": "stdout",
     "output_type": "stream",
     "text": [
      "Month data complete!\n"
     ]
    }
   ],
   "source": [
    "page_data = pd.DataFrame(extract_feed_data(page['feed']))"
   ]
  },
  {
   "cell_type": "code",
   "execution_count": 17,
   "metadata": {
    "collapsed": false
   },
   "outputs": [
    {
     "name": "stdout",
     "output_type": "stream",
     "text": [
      "<class 'pandas.core.frame.DataFrame'>\n",
      "RangeIndex: 5 entries, 0 to 4\n",
      "Data columns (total 10 columns):\n",
      "created_time       5 non-null object\n",
      "id                 5 non-null object\n",
      "message            5 non-null object\n",
      "permalink_url      5 non-null object\n",
      "status_type        5 non-null object\n",
      "total_comments     5 non-null int64\n",
      "total_likes        5 non-null int64\n",
      "total_reactions    5 non-null int64\n",
      "total_shares       5 non-null int64\n",
      "type               5 non-null object\n",
      "dtypes: int64(4), object(6)\n",
      "memory usage: 480.0+ bytes\n"
     ]
    }
   ],
   "source": [
    "page_data.info()"
   ]
  },
  {
   "cell_type": "code",
   "execution_count": 18,
   "metadata": {
    "collapsed": false
   },
   "outputs": [
    {
     "data": {
      "text/html": [
       "<div>\n",
       "<table border=\"1\" class=\"dataframe\">\n",
       "  <thead>\n",
       "    <tr style=\"text-align: right;\">\n",
       "      <th></th>\n",
       "      <th>created_time</th>\n",
       "      <th>id</th>\n",
       "      <th>message</th>\n",
       "      <th>permalink_url</th>\n",
       "      <th>status_type</th>\n",
       "      <th>total_comments</th>\n",
       "      <th>total_likes</th>\n",
       "      <th>total_reactions</th>\n",
       "      <th>total_shares</th>\n",
       "      <th>type</th>\n",
       "    </tr>\n",
       "  </thead>\n",
       "  <tbody>\n",
       "    <tr>\n",
       "      <th>0</th>\n",
       "      <td>2017-04-19T18:01:40+0000</td>\n",
       "      <td>277104869126156_717384965098142</td>\n",
       "      <td>Na próxima terça vamos promover uma palestra b...</td>\n",
       "      <td>https://www.facebook.com/IncubadoraInovaMetrop...</td>\n",
       "      <td>added_photos</td>\n",
       "      <td>2</td>\n",
       "      <td>4</td>\n",
       "      <td>4</td>\n",
       "      <td>3</td>\n",
       "      <td>photo</td>\n",
       "    </tr>\n",
       "    <tr>\n",
       "      <th>1</th>\n",
       "      <td>2017-04-12T18:28:56+0000</td>\n",
       "      <td>277104869126156_713650055471633</td>\n",
       "      <td>Daqui a pouco temos a palestra com o Marcelo A...</td>\n",
       "      <td>https://www.facebook.com/IncubadoraInovaMetrop...</td>\n",
       "      <td>added_photos</td>\n",
       "      <td>1</td>\n",
       "      <td>3</td>\n",
       "      <td>3</td>\n",
       "      <td>0</td>\n",
       "      <td>photo</td>\n",
       "    </tr>\n",
       "    <tr>\n",
       "      <th>2</th>\n",
       "      <td>2017-04-10T21:24:44+0000</td>\n",
       "      <td>277104869126156_712628078907164</td>\n",
       "      <td>Está lançado o edital de pintura das paredes d...</td>\n",
       "      <td>https://www.facebook.com/IncubadoraInovaMetrop...</td>\n",
       "      <td>added_photos</td>\n",
       "      <td>5</td>\n",
       "      <td>6</td>\n",
       "      <td>6</td>\n",
       "      <td>1</td>\n",
       "      <td>photo</td>\n",
       "    </tr>\n",
       "    <tr>\n",
       "      <th>3</th>\n",
       "      <td>2017-04-10T15:00:00+0000</td>\n",
       "      <td>277104869126156_713661245470514</td>\n",
       "      <td>Nessa segunda aconteceu o evento de boas-vinda...</td>\n",
       "      <td>https://www.facebook.com/IncubadoraInovaMetrop...</td>\n",
       "      <td>added_photos</td>\n",
       "      <td>0</td>\n",
       "      <td>7</td>\n",
       "      <td>7</td>\n",
       "      <td>0</td>\n",
       "      <td>photo</td>\n",
       "    </tr>\n",
       "    <tr>\n",
       "      <th>4</th>\n",
       "      <td>2017-04-08T18:58:54+0000</td>\n",
       "      <td>277104869126156_711420299027942</td>\n",
       "      <td>Na próxima quarta você não pode perder esse ba...</td>\n",
       "      <td>https://www.facebook.com/IncubadoraInovaMetrop...</td>\n",
       "      <td>added_photos</td>\n",
       "      <td>1</td>\n",
       "      <td>16</td>\n",
       "      <td>17</td>\n",
       "      <td>12</td>\n",
       "      <td>photo</td>\n",
       "    </tr>\n",
       "  </tbody>\n",
       "</table>\n",
       "</div>"
      ],
      "text/plain": [
       "               created_time                               id  \\\n",
       "0  2017-04-19T18:01:40+0000  277104869126156_717384965098142   \n",
       "1  2017-04-12T18:28:56+0000  277104869126156_713650055471633   \n",
       "2  2017-04-10T21:24:44+0000  277104869126156_712628078907164   \n",
       "3  2017-04-10T15:00:00+0000  277104869126156_713661245470514   \n",
       "4  2017-04-08T18:58:54+0000  277104869126156_711420299027942   \n",
       "\n",
       "                                             message  \\\n",
       "0  Na próxima terça vamos promover uma palestra b...   \n",
       "1  Daqui a pouco temos a palestra com o Marcelo A...   \n",
       "2  Está lançado o edital de pintura das paredes d...   \n",
       "3  Nessa segunda aconteceu o evento de boas-vinda...   \n",
       "4  Na próxima quarta você não pode perder esse ba...   \n",
       "\n",
       "                                       permalink_url   status_type  \\\n",
       "0  https://www.facebook.com/IncubadoraInovaMetrop...  added_photos   \n",
       "1  https://www.facebook.com/IncubadoraInovaMetrop...  added_photos   \n",
       "2  https://www.facebook.com/IncubadoraInovaMetrop...  added_photos   \n",
       "3  https://www.facebook.com/IncubadoraInovaMetrop...  added_photos   \n",
       "4  https://www.facebook.com/IncubadoraInovaMetrop...  added_photos   \n",
       "\n",
       "   total_comments  total_likes  total_reactions  total_shares   type  \n",
       "0               2            4                4             3  photo  \n",
       "1               1            3                3             0  photo  \n",
       "2               5            6                6             1  photo  \n",
       "3               0            7                7             0  photo  \n",
       "4               1           16               17            12  photo  "
      ]
     },
     "execution_count": 18,
     "metadata": {},
     "output_type": "execute_result"
    }
   ],
   "source": [
    "page_data.head()"
   ]
  },
  {
   "cell_type": "code",
   "execution_count": null,
   "metadata": {
    "collapsed": true
   },
   "outputs": [],
   "source": [
    "# References\n",
    "\n",
    "# https://facebook-sdk.readthedocs.io/en/latest/api.html\n",
    "# https://developers.facebook.com/docs/graph-api/reference/v2.7"
   ]
  }
 ],
 "metadata": {
  "kernelspec": {
   "display_name": "Python 3",
   "language": "python",
   "name": "python3"
  },
  "language_info": {
   "codemirror_mode": {
    "name": "ipython",
    "version": 3
   },
   "file_extension": ".py",
   "mimetype": "text/x-python",
   "name": "python",
   "nbconvert_exporter": "python",
   "pygments_lexer": "ipython3",
   "version": "3.6.0"
  }
 },
 "nbformat": 4,
 "nbformat_minor": 2
}
