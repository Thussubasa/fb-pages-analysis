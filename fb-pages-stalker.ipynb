{
 "cells": [
  {
   "cell_type": "markdown",
   "metadata": {},
   "source": [
    "# Group\n",
    "- **Álvaro Ferreira Pires de Paiva** - 2016039162\n",
    "- **Gustavo Rodarte Joaquim** - 2016048081\n",
    "- **Kaio Max Marques de Medeiros** - 2014025560"
   ]
  },
  {
   "cell_type": "code",
   "execution_count": null,
   "metadata": {
    "collapsed": false
   },
   "outputs": [],
   "source": [
    "### Library necessary to run this IPython Notebook\n",
    "!pip install facebook-sdk\n",
    "!pip install tqdm\n",
    "!pip install requests\n",
    "!pip install arrow"
   ]
  },
  {
   "cell_type": "markdown",
   "metadata": {},
   "source": [
    "# Treatment of data"
   ]
  },
  {
   "cell_type": "code",
   "execution_count": 2,
   "metadata": {
    "collapsed": false
   },
   "outputs": [],
   "source": [
    "import pandas as pd\n",
    "import facebook\n",
    "import requests\n",
    "import arrow\n",
    "from tqdm import tqdm"
   ]
  },
  {
   "cell_type": "code",
   "execution_count": 3,
   "metadata": {
    "collapsed": false
   },
   "outputs": [],
   "source": [
    "# Read env variables\n",
    "ENV = pd.read_json('.env', orient='records').iloc[0]"
   ]
  },
  {
   "cell_type": "code",
   "execution_count": 4,
   "metadata": {
    "collapsed": false
   },
   "outputs": [],
   "source": [
    "graph = facebook.GraphAPI(access_token = ENV['ACCESS_TOKEN'], version = '2.7')"
   ]
  },
  {
   "cell_type": "code",
   "execution_count": 5,
   "metadata": {
    "collapsed": false
   },
   "outputs": [],
   "source": [
    "arw = arrow.utcnow()\n",
    "current_month = arw.month\n",
    "\n",
    "def extract_feed_data(feed, rows = []):\n",
    "    should_finish = False\n",
    "\n",
    "    for post in tqdm(feed['data'], 'Extracting current month data...'):\n",
    "        post_month = arrow.get(post['created_time']).month\n",
    "        if(post_month != current_month):\n",
    "            should_finish = True\n",
    "            break\n",
    "        \n",
    "        likes = graph.get_object(str(post['id']) + '/likes?limit=0&summary=true')\n",
    "        reactions = graph.get_object(str(post['id']) + '/reactions?limit=0&summary=true')\n",
    "        comments = graph.get_object(str(post['id']) + '/comments?limit=0&summary=true')\n",
    "\n",
    "        row_data = {\n",
    "            'id': post['id'],\n",
    "            'created_time': post['created_time'],\n",
    "            'date': arrow.get(post['created_time']).format('DD-MM-YYYY'),\n",
    "            'permalink_url': post['permalink_url'],\n",
    "            'type': post['type'],\n",
    "            'status_type': post['status_type'],\n",
    "            'message': post['message'] if 'message' in post else '-',\n",
    "            'total_likes': likes['summary']['total_count'],\n",
    "            'total_reactions': reactions['summary']['total_count'],\n",
    "            'total_comments': comments['summary']['total_count'],\n",
    "            'total_shares': post['shares']['count'] if 'shares' in post else 0\n",
    "        }\n",
    "        rows.append(row_data)\n",
    "\n",
    "    if(should_finish):\n",
    "        print('Month data complete!')\n",
    "        return rows\n",
    "    else:\n",
    "        next_feed = requests.get(feed['paging']['next']).json()\n",
    "        return extract_feed_data(next_feed, rows)"
   ]
  },
  {
   "cell_type": "code",
   "execution_count": 6,
   "metadata": {
    "collapsed": false
   },
   "outputs": [],
   "source": [
    "def get_page_feed_data(page):\n",
    "    # Extract feed\n",
    "    page_data = pd.DataFrame(extract_feed_data(page['feed']))\n",
    "\n",
    "    # Sort page_data by 'created_time'\n",
    "    page_data.sort_values(['created_time'], ascending = True, inplace = True)\n",
    "    page_data.index = range(1, len(page_data) + 1)\n",
    "\n",
    "    # Add page name\n",
    "    page_name = pd.Series(page['name'], index = page_data.index, name = 'page')\n",
    "    page_data = page_data.join(page_name)\n",
    "    \n",
    "    return page_data"
   ]
  },
  {
   "cell_type": "code",
   "execution_count": 9,
   "metadata": {
    "collapsed": false
   },
   "outputs": [],
   "source": [
    "def get_page_object(page_id):\n",
    "    return graph.get_object(\n",
    "        id = page_id,\n",
    "        fields='name, about, category, fan_count, feed.limit(100){created_time, permalink_url, type, status_type, message, shares}'\n",
    "    )"
   ]
  },
  {
   "cell_type": "code",
   "execution_count": null,
   "metadata": {
    "collapsed": false,
    "scrolled": true
   },
   "outputs": [],
   "source": [
    "# Get pages objects\n",
    "page_one = get_page_object(ENV['PAGE_IDS'][0])\n",
    "page_two = get_page_object(ENV['PAGE_IDS'][1])\n",
    "\n",
    "# Get pages feed data\n",
    "page_feed_data_one = get_page_feed_data(page_one)\n",
    "page_feed_data_two = get_page_feed_data(page_two)\n",
    "\n",
    "# Concat pages data\n",
    "pages_feed_data = pd.concat([page_feed_data_one, page_feed_data_two], ignore_index = True)"
   ]
  },
  {
   "cell_type": "code",
   "execution_count": null,
   "metadata": {
    "collapsed": false,
    "scrolled": true
   },
   "outputs": [],
   "source": [
    "pages_feed_data.info()"
   ]
  },
  {
   "cell_type": "code",
   "execution_count": null,
   "metadata": {
    "collapsed": false,
    "scrolled": true
   },
   "outputs": [],
   "source": [
    "pages_feed_data.tail()"
   ]
  },
  {
   "cell_type": "markdown",
   "metadata": {},
   "source": [
    "# Graphics"
   ]
  },
  {
   "cell_type": "code",
   "execution_count": 16,
   "metadata": {
    "collapsed": true
   },
   "outputs": [],
   "source": [
    "from bokeh.models import HoverTool\n",
    "from bokeh.charts import Scatter, Bar\n",
    "from bokeh.layouts import row, gridplot\n",
    "from bokeh.io import output_notebook, show\n",
    "from bokeh.plotting import figure, ColumnDataSource\n",
    "import string"
   ]
  },
  {
   "cell_type": "code",
   "execution_count": null,
   "metadata": {
    "collapsed": false,
    "scrolled": true
   },
   "outputs": [],
   "source": [
    "# PAGE 1\n",
    "totals1 = page_feed_data_one[['total_comments', 'total_reactions', 'total_shares', 'total_likes']].groupby(page_feed_data_one['date']).sum()\n",
    "dates1 = page_feed_data_one['date'].unique().tolist()\n",
    "indexs1 = []\n",
    "\n",
    "for date in page_feed_data_one['date'].unique().tolist():\n",
    "    indexs1.append(int(date.split('-')[0]))\n",
    "\n",
    "s1_comments = ColumnDataSource(\n",
    "        data=dict(\n",
    "            x=indexs1,\n",
    "            y=totals1['total_comments'],\n",
    "            dates=dates1\n",
    "        )\n",
    "    )\n",
    "s1_reactions = ColumnDataSource(\n",
    "        data=dict(\n",
    "            x=indexs1,\n",
    "            y=totals1['total_reactions'],\n",
    "            dates=dates1\n",
    "        )\n",
    "    )\n",
    "s1_shares = ColumnDataSource(\n",
    "        data=dict(\n",
    "            x=indexs1,\n",
    "            y=totals1['total_shares'],\n",
    "            dates=dates1\n",
    "        )\n",
    "    )\n",
    "\n",
    "s1_likes = ColumnDataSource(\n",
    "        data=dict(\n",
    "            x=indexs1,\n",
    "            y=totals1['total_likes'],\n",
    "            dates=dates1\n",
    "        )\n",
    "    )\n",
    "\n",
    "hover = HoverTool(\n",
    "    tooltips=\"\"\"\n",
    "    <div>\n",
    "        <p><b>Data:</b> @dates</p>\n",
    "        <p><b>Total:</b> @y</p>\n",
    "    </div>\n",
    "    \"\"\"\n",
    ")\n",
    "\n",
    "title1 = '%s - %s até %s' % (page_one['name'], dates1[0], dates1[-1])\n",
    "p1 = figure(plot_width=900, plot_height=300, tools=[hover], title=title1)\n",
    "p1.line('x', 'y', line_width=3, source=s1_comments, legend='Total Comments', color='orange')\n",
    "p1.line('x', 'y', line_width=3, source=s1_reactions, legend='Total Reactions', color='blue')\n",
    "p1.line('x', 'y', line_width=3, source=s1_shares, legend='Total Shares', color='green')\n",
    "p1.line('x', 'y', line_width=3, source=s1_likes, legend='Total Likes', color='red')\n",
    "\n",
    "# PAGE 2\n",
    "totals2 = page_feed_data_two[['total_comments', 'total_reactions', 'total_shares', 'total_likes']].groupby(page_feed_data_two['date']).sum()\n",
    "dates2 = page_feed_data_two['date'].unique().tolist()\n",
    "indexs2 = []\n",
    "\n",
    "for date in page_feed_data_two['date'].unique().tolist():\n",
    "    indexs2.append(int(date.split('-')[0]))\n",
    "\n",
    "s2_comments = ColumnDataSource(\n",
    "        data=dict(\n",
    "            x=indexs2,\n",
    "            y=totals2['total_comments'],\n",
    "            dates=dates2\n",
    "        )\n",
    "    )\n",
    "s2_reactions = ColumnDataSource(\n",
    "        data=dict(\n",
    "            x=indexs2,\n",
    "            y=totals2['total_reactions'],\n",
    "            dates=dates2\n",
    "        )\n",
    "    )\n",
    "s2_shares = ColumnDataSource(\n",
    "        data=dict(\n",
    "            x=indexs2,\n",
    "            y=totals2['total_shares'],\n",
    "            dates=dates2\n",
    "        )\n",
    "    )\n",
    "\n",
    "s2_likes = ColumnDataSource(\n",
    "        data=dict(\n",
    "            x=indexs2,\n",
    "            y=totals2['total_likes'],\n",
    "            dates=dates2\n",
    "        )\n",
    "    )\n",
    "\n",
    "hover = HoverTool(\n",
    "    tooltips=\"\"\"\n",
    "    <div>\n",
    "        <p><b>Data:</b> @dates</p>\n",
    "        <p><b>Total:</b> @y</p>\n",
    "    </div>\n",
    "    \"\"\"\n",
    ")\n",
    "\n",
    "title2 = '%s - %s até %s' % (page_two['name'], dates2[0], dates2[-1])\n",
    "p2 = figure(plot_width=900, plot_height=300, tools=[hover], title=title2)\n",
    "p2.line('x', 'y', line_width=3, source=s2_comments, legend='Total Comments', color='orange')\n",
    "p2.line('x', 'y', line_width=3, source=s2_reactions, legend='Total Reactions', color='blue')\n",
    "p2.line('x', 'y', line_width=3, source=s2_shares, legend='Total Shares', color='green')\n",
    "p2.line('x', 'y', line_width=3, source=s2_likes, legend='Total Likes', color='red')\n",
    "\n",
    "grid = gridplot([p1, p2], ncols=1)\n",
    "\n",
    "output_notebook()\n",
    "show(grid)"
   ]
  },
  {
   "cell_type": "code",
   "execution_count": null,
   "metadata": {
    "collapsed": false,
    "scrolled": true
   },
   "outputs": [],
   "source": [
    "p1_reactions = Scatter(\n",
    "        page_feed_data_one,\n",
    "        x='date',\n",
    "        y='total_reactions', \n",
    "        xlabel='Date',\n",
    "        ylabel='Total Reactions', \n",
    "        color='type',\n",
    "        title='Date vs Total Reactions - ' + page_one['name']\n",
    ")\n",
    "\n",
    "p2_reactions = Scatter(\n",
    "        page_feed_data_two,\n",
    "        x='date',\n",
    "        y='total_reactions', \n",
    "        xlabel='Date',\n",
    "        ylabel='Total Reactions', \n",
    "        color='type',\n",
    "        title='Date vs Total Reactions - ' + page_two['name']\n",
    ")\n",
    "\n",
    "p1_shares = Scatter(\n",
    "        page_feed_data_one,\n",
    "        x='date',\n",
    "        y='total_shares', \n",
    "        xlabel='Date',\n",
    "        ylabel='Total Shares', \n",
    "        color='type',\n",
    "        title='Date vs Total Shares - ' + page_one['name']\n",
    ")\n",
    "\n",
    "p2_shares = Scatter(\n",
    "        page_feed_data_two,\n",
    "        x='date',\n",
    "        y='total_shares', \n",
    "        xlabel='Date',\n",
    "        ylabel='Total Shares', \n",
    "        color='type',\n",
    "        title='Date vs Total Shares - ' + page_two['name']\n",
    ")\n",
    "\n",
    "\n",
    "grid = gridplot([p1_reactions, p2_reactions, \n",
    "                p1_shares, p2_shares], ncols=2, sizing_mode='scale_width')\n",
    "\n",
    "\n",
    "p2_reactions.x_range = p1_reactions.x_range\n",
    "\n",
    "# Link the y_range of p2 to p1: p2.y_range\n",
    "p2_reactions.y_range = p1_reactions.y_range\n",
    "\n",
    "# Link the x_range of p3 to p1: p3.x_range\n",
    "p1_shares.x_range = p1_reactions.x_range\n",
    "\n",
    "p1_shares.y_range = p1_reactions.y_range\n",
    "# Link the y_range of p4 to p1: p4.y_range\n",
    "p2_shares.y_range = p1_reactions.y_range\n",
    "\n",
    "p2_shares.x_range = p1_reactions.x_range\n",
    "\n",
    "output_notebook()\n",
    "show(grid)"
   ]
  },
  {
   "cell_type": "code",
   "execution_count": null,
   "metadata": {
    "collapsed": false,
    "scrolled": true
   },
   "outputs": [],
   "source": [
    "p_reactions = Bar(\n",
    "    pages_feed_data,\n",
    "    label='date',\n",
    "    values='total_reactions',\n",
    "    agg='sum',\n",
    "    stack='page',\n",
    "    xlabel='Date',\n",
    "    ylabel='Total Reactions',\n",
    "    title=\"Sum Post Total Reactions by Date, stacked by Page\",\n",
    "    legend='top_right'\n",
    ")\n",
    "\n",
    "p_comments = Bar(\n",
    "    pages_feed_data,\n",
    "    label='date',\n",
    "    values='total_comments',\n",
    "    agg='sum',\n",
    "    stack='page',\n",
    "    xlabel='Date',\n",
    "    ylabel='Total Com',\n",
    "    title=\"Sum Post Total Comments by Date, stacked by Page\",\n",
    "    legend='top_right'\n",
    ")\n",
    "\n",
    "p_likes = Bar(\n",
    "    pages_feed_data,\n",
    "    label='date',\n",
    "    values='total_likes',\n",
    "    agg='sum',\n",
    "    stack='page',\n",
    "    xlabel='Date',\n",
    "    ylabel='Total Com',\n",
    "    title=\"Sum Post Total Likes by Date, stacked by Page\",\n",
    "    legend='top_right'\n",
    ")\n",
    "7\n",
    "p_shares = Bar(\n",
    "    pages_feed_data,\n",
    "    label='date',\n",
    "    values='total_shares',\n",
    "    agg='sum',\n",
    "    stack='page',\n",
    "    xlabel='Date',\n",
    "    ylabel='Total Com',\n",
    "    title=\"Sum Post Total Shares by Date, stacked by Page\",\n",
    "    legend='top_right'\n",
    ")\n",
    "\n",
    "output_notebook()\n",
    "\n",
    "grid = gridplot([p_likes, p_reactions, \n",
    "                p_shares, p_comments], ncols=2, sizing_mode='scale_width')\n",
    "\n",
    "show(grid)"
   ]
  },
  {
   "cell_type": "markdown",
   "metadata": {
    "collapsed": true
   },
   "source": [
    "# References \n",
    "- https://facebook-sdk.readthedocs.io/en/latest/api.html\n",
    "- https://developers.facebook.com/docs/graph-api/reference/v2.7"
   ]
  }
 ],
 "metadata": {
  "kernelspec": {
   "display_name": "Python 3",
   "language": "python",
   "name": "python3"
  },
  "language_info": {
   "codemirror_mode": {
    "name": "ipython",
    "version": 3
   },
   "file_extension": ".py",
   "mimetype": "text/x-python",
   "name": "python",
   "nbconvert_exporter": "python",
   "pygments_lexer": "ipython3",
   "version": "3.6.0"
  }
 },
 "nbformat": 4,
 "nbformat_minor": 2
}
