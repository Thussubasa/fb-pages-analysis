{
 "cells": [
  {
   "cell_type": "code",
   "execution_count": 36,
   "metadata": {
    "collapsed": false
   },
   "outputs": [
    {
     "name": "stdout",
     "output_type": "stream",
     "text": [
      "Requirement already satisfied: facebook-sdk in /usr/local/lib/python2.7/site-packages\n",
      "Requirement already satisfied: requests in /usr/local/lib/python2.7/site-packages (from facebook-sdk)\n",
      "Requirement already satisfied: tqdm in /usr/local/lib/python2.7/site-packages\n"
     ]
    }
   ],
   "source": [
    "### Library necessary to run this IPython Notebook\n",
    "!pip install facebook-sdk\n",
    "!pip install tqdm"
   ]
  },
  {
   "cell_type": "code",
   "execution_count": 98,
   "metadata": {
    "collapsed": true
   },
   "outputs": [],
   "source": [
    "import pandas as pd\n",
    "import facebook\n",
    "from tqdm import tqdm"
   ]
  },
  {
   "cell_type": "code",
   "execution_count": 99,
   "metadata": {
    "collapsed": true
   },
   "outputs": [],
   "source": [
    "ACCESS_TOKEN = 'Get token...'\n",
    "PAGE_ID = 'brainstorm9'"
   ]
  },
  {
   "cell_type": "code",
   "execution_count": 100,
   "metadata": {
    "collapsed": false
   },
   "outputs": [],
   "source": [
    "graph = facebook.GraphAPI(access_token = ACCESS_TOKEN, version = '2.7')"
   ]
  },
  {
   "cell_type": "code",
   "execution_count": 101,
   "metadata": {
    "collapsed": false
   },
   "outputs": [],
   "source": [
    "page = graph.get_object(\n",
    "    id = PAGE_ID,\n",
    "    fields='name, about, category, fan_count, feed.limit(25){created_time, permalink_url, type, status_type, message, shares}'\n",
    ")"
   ]
  },
  {
   "cell_type": "code",
   "execution_count": 111,
   "metadata": {
    "collapsed": false
   },
   "outputs": [
    {
     "name": "stderr",
     "output_type": "stream",
     "text": [
      "\n",
      "  0%|          | 0/100 [00:00<?, ?it/s]\u001b[A\n",
      "  1%|          | 1/100 [00:01<03:10,  1.92s/it]\u001b[A\n",
      "  2%|▏         | 2/100 [00:03<02:54,  1.78s/it]\u001b[A\n",
      "  3%|▎         | 3/100 [00:04<02:42,  1.68s/it]\u001b[A\n",
      "100%|██████████| 100/100 [02:30<00:00,  1.55s/it]\n"
     ]
    }
   ],
   "source": [
    "rows = []\n",
    "\n",
    "for post in tqdm(page['feed']['data']):\n",
    "    likes = graph.get_object(str(post['id']) + '/likes?limit=0&summary=true')\n",
    "    reactions = graph.get_object(str(post['id']) + '/reactions?limit=0&summary=true')\n",
    "    comments = graph.get_object(str(post['id']) + '/comments?limit=0&summary=true')\n",
    "\n",
    "    row_data = {\n",
    "        'id': post['id'],\n",
    "        'created_time': post['created_time'],\n",
    "        'permalink_url': post['permalink_url'],\n",
    "        'type': post['type'],\n",
    "        'status_type': post['status_type'],\n",
    "        'message': post['message'],\n",
    "        'total_likes': likes['summary']['total_count'],\n",
    "        'total_reactions': reactions['summary']['total_count'],\n",
    "        'total_comments': comments['summary']['total_count'],\n",
    "        'total_shares': post['shares']['count'] if 'shares' in post else 0\n",
    "    }\n",
    "    rows.append(row_data)\n",
    "\n",
    "page_data = pd.DataFrame(rows)"
   ]
  },
  {
   "cell_type": "code",
   "execution_count": 112,
   "metadata": {
    "collapsed": false
   },
   "outputs": [
    {
     "name": "stdout",
     "output_type": "stream",
     "text": [
      "<class 'pandas.core.frame.DataFrame'>\n",
      "RangeIndex: 100 entries, 0 to 99\n",
      "Data columns (total 10 columns):\n",
      "created_time       100 non-null object\n",
      "id                 100 non-null object\n",
      "message            100 non-null object\n",
      "permalink_url      100 non-null object\n",
      "status_type        100 non-null object\n",
      "total_comments     100 non-null int64\n",
      "total_likes        100 non-null int64\n",
      "total_reactions    100 non-null int64\n",
      "total_shares       100 non-null int64\n",
      "type               100 non-null object\n",
      "dtypes: int64(4), object(6)\n",
      "memory usage: 7.9+ KB\n"
     ]
    }
   ],
   "source": [
    "page_data.info()"
   ]
  },
  {
   "cell_type": "code",
   "execution_count": 113,
   "metadata": {
    "collapsed": false
   },
   "outputs": [
    {
     "data": {
      "text/html": [
       "<div>\n",
       "<table border=\"1\" class=\"dataframe\">\n",
       "  <thead>\n",
       "    <tr style=\"text-align: right;\">\n",
       "      <th></th>\n",
       "      <th>created_time</th>\n",
       "      <th>id</th>\n",
       "      <th>message</th>\n",
       "      <th>permalink_url</th>\n",
       "      <th>status_type</th>\n",
       "      <th>total_comments</th>\n",
       "      <th>total_likes</th>\n",
       "      <th>total_reactions</th>\n",
       "      <th>total_shares</th>\n",
       "      <th>type</th>\n",
       "    </tr>\n",
       "  </thead>\n",
       "  <tbody>\n",
       "    <tr>\n",
       "      <th>0</th>\n",
       "      <td>2017-04-21T21:45:07+0000</td>\n",
       "      <td>142702111239_10155140688496240</td>\n",
       "      <td>Luzes de partida e música tema tocarão no mome...</td>\n",
       "      <td>https://www.facebook.com/brainstorm9/posts/101...</td>\n",
       "      <td>shared_story</td>\n",
       "      <td>162</td>\n",
       "      <td>1004</td>\n",
       "      <td>1329</td>\n",
       "      <td>105</td>\n",
       "      <td>link</td>\n",
       "    </tr>\n",
       "    <tr>\n",
       "      <th>1</th>\n",
       "      <td>2017-04-21T17:11:01+0000</td>\n",
       "      <td>142702111239_10155140085876240</td>\n",
       "      <td>Nesse episódio especial, imaginamos como seria...</td>\n",
       "      <td>https://www.facebook.com/brainstorm9/posts/101...</td>\n",
       "      <td>shared_story</td>\n",
       "      <td>1</td>\n",
       "      <td>32</td>\n",
       "      <td>36</td>\n",
       "      <td>1</td>\n",
       "      <td>link</td>\n",
       "    </tr>\n",
       "    <tr>\n",
       "      <th>2</th>\n",
       "      <td>2017-04-20T22:23:18+0000</td>\n",
       "      <td>142702111239_10155137548456240</td>\n",
       "      <td>“Todos aman las tetas” dá sequência ao hit vir...</td>\n",
       "      <td>https://www.facebook.com/brainstorm9/posts/101...</td>\n",
       "      <td>shared_story</td>\n",
       "      <td>10</td>\n",
       "      <td>208</td>\n",
       "      <td>242</td>\n",
       "      <td>23</td>\n",
       "      <td>link</td>\n",
       "    </tr>\n",
       "    <tr>\n",
       "      <th>3</th>\n",
       "      <td>2017-04-20T21:22:55+0000</td>\n",
       "      <td>142702111239_10155137383146240</td>\n",
       "      <td>Dá vergonha? Dá, mas é de coração\\n\\n&gt; ASSISTA</td>\n",
       "      <td>https://www.facebook.com/brainstorm9/posts/101...</td>\n",
       "      <td>shared_story</td>\n",
       "      <td>20</td>\n",
       "      <td>231</td>\n",
       "      <td>306</td>\n",
       "      <td>33</td>\n",
       "      <td>link</td>\n",
       "    </tr>\n",
       "    <tr>\n",
       "      <th>4</th>\n",
       "      <td>2017-04-20T17:49:12+0000</td>\n",
       "      <td>142702111239_10155136851021240</td>\n",
       "      <td>Hora de mostrar um pouco das iniciativas suste...</td>\n",
       "      <td>https://www.facebook.com/brainstorm9/posts/101...</td>\n",
       "      <td>shared_story</td>\n",
       "      <td>0</td>\n",
       "      <td>18</td>\n",
       "      <td>20</td>\n",
       "      <td>3</td>\n",
       "      <td>link</td>\n",
       "    </tr>\n",
       "  </tbody>\n",
       "</table>\n",
       "</div>"
      ],
      "text/plain": [
       "               created_time                              id  \\\n",
       "0  2017-04-21T21:45:07+0000  142702111239_10155140688496240   \n",
       "1  2017-04-21T17:11:01+0000  142702111239_10155140085876240   \n",
       "2  2017-04-20T22:23:18+0000  142702111239_10155137548456240   \n",
       "3  2017-04-20T21:22:55+0000  142702111239_10155137383146240   \n",
       "4  2017-04-20T17:49:12+0000  142702111239_10155136851021240   \n",
       "\n",
       "                                             message  \\\n",
       "0  Luzes de partida e música tema tocarão no mome...   \n",
       "1  Nesse episódio especial, imaginamos como seria...   \n",
       "2  “Todos aman las tetas” dá sequência ao hit vir...   \n",
       "3     Dá vergonha? Dá, mas é de coração\\n\\n> ASSISTA   \n",
       "4  Hora de mostrar um pouco das iniciativas suste...   \n",
       "\n",
       "                                       permalink_url   status_type  \\\n",
       "0  https://www.facebook.com/brainstorm9/posts/101...  shared_story   \n",
       "1  https://www.facebook.com/brainstorm9/posts/101...  shared_story   \n",
       "2  https://www.facebook.com/brainstorm9/posts/101...  shared_story   \n",
       "3  https://www.facebook.com/brainstorm9/posts/101...  shared_story   \n",
       "4  https://www.facebook.com/brainstorm9/posts/101...  shared_story   \n",
       "\n",
       "   total_comments  total_likes  total_reactions  total_shares  type  \n",
       "0             162         1004             1329           105  link  \n",
       "1               1           32               36             1  link  \n",
       "2              10          208              242            23  link  \n",
       "3              20          231              306            33  link  \n",
       "4               0           18               20             3  link  "
      ]
     },
     "execution_count": 113,
     "metadata": {},
     "output_type": "execute_result"
    }
   ],
   "source": [
    "page_data.head()"
   ]
  },
  {
   "cell_type": "code",
   "execution_count": null,
   "metadata": {
    "collapsed": true
   },
   "outputs": [],
   "source": [
    "# References\n",
    "\n",
    "# https://facebook-sdk.readthedocs.io/en/latest/api.html\n",
    "# https://developers.facebook.com/docs/graph-api/reference/v2.7"
   ]
  }
 ],
 "metadata": {
  "kernelspec": {
   "display_name": "Python 3",
   "language": "python",
   "name": "python3"
  },
  "language_info": {
   "codemirror_mode": {
    "name": "ipython",
    "version": 3
   },
   "file_extension": ".py",
   "mimetype": "text/x-python",
   "name": "python",
   "nbconvert_exporter": "python",
   "pygments_lexer": "ipython3",
   "version": "3.6.0"
  }
 },
 "nbformat": 4,
 "nbformat_minor": 2
}
